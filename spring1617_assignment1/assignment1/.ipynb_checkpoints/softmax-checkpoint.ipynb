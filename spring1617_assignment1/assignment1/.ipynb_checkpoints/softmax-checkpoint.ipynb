{
 "cells": [
  {
   "cell_type": "markdown",
   "metadata": {},
   "source": [
    "# Softmax exercise\n",
    "\n",
    "*Complete and hand in this completed worksheet (including its outputs and any supporting code outside of the worksheet) with your assignment submission. For more details see the [assignments page](http://vision.stanford.edu/teaching/cs231n/assignments.html) on the course website.*\n",
    "\n",
    "This exercise is analogous to the SVM exercise. You will:\n",
    "\n",
    "- implement a fully-vectorized **loss function** for the Softmax classifier\n",
    "- implement the fully-vectorized expression for its **analytic gradient**\n",
    "- **check your implementation** with numerical gradient\n",
    "- use a validation set to **tune the learning rate and regularization** strength\n",
    "- **optimize** the loss function with **SGD**\n",
    "- **visualize** the final learned weights\n"
   ]
  },
  {
   "cell_type": "code",
   "execution_count": 1,
   "metadata": {},
   "outputs": [],
   "source": [
    "import random\n",
    "import numpy as np\n",
    "from cs231n.data_utils import load_CIFAR10\n",
    "import matplotlib.pyplot as plt\n",
    "\n",
    "from __future__ import print_function\n",
    "\n",
    "%matplotlib inline\n",
    "plt.rcParams['figure.figsize'] = (10.0, 8.0) # set default size of plots\n",
    "plt.rcParams['image.interpolation'] = 'nearest'\n",
    "plt.rcParams['image.cmap'] = 'gray'\n",
    "\n",
    "# for auto-reloading extenrnal modules\n",
    "# see http://stackoverflow.com/questions/1907993/autoreload-of-modules-in-ipython\n",
    "%load_ext autoreload\n",
    "%autoreload 2"
   ]
  },
  {
   "cell_type": "code",
   "execution_count": 2,
   "metadata": {},
   "outputs": [
    {
     "name": "stdout",
     "output_type": "stream",
     "text": [
      "Train data shape:  (49000, 3073)\n",
      "Train labels shape:  (49000,)\n",
      "Validation data shape:  (1000, 3073)\n",
      "Validation labels shape:  (1000,)\n",
      "Test data shape:  (1000, 3073)\n",
      "Test labels shape:  (1000,)\n",
      "dev data shape:  (500, 3073)\n",
      "dev labels shape:  (500,)\n"
     ]
    }
   ],
   "source": [
    "def get_CIFAR10_data(num_training=49000, num_validation=1000, num_test=1000, num_dev=500):\n",
    "    \"\"\"\n",
    "    Load the CIFAR-10 dataset from disk and perform preprocessing to prepare\n",
    "    it for the linear classifier. These are the same steps as we used for the\n",
    "    SVM, but condensed to a single function.  \n",
    "    \"\"\"\n",
    "    # Load the raw CIFAR-10 data\n",
    "    cifar10_dir = 'cs231n/datasets/cifar-10-batches-py'\n",
    "    X_train, y_train, X_test, y_test = load_CIFAR10(cifar10_dir)\n",
    "    \n",
    "    # subsample the data\n",
    "    mask = list(range(num_training, num_training + num_validation))\n",
    "    X_val = X_train[mask]\n",
    "    y_val = y_train[mask]\n",
    "    mask = list(range(num_training))\n",
    "    X_train = X_train[mask]\n",
    "    y_train = y_train[mask]\n",
    "    mask = list(range(num_test))\n",
    "    X_test = X_test[mask]\n",
    "    y_test = y_test[mask]\n",
    "    mask = np.random.choice(num_training, num_dev, replace=False)\n",
    "    X_dev = X_train[mask]\n",
    "    y_dev = y_train[mask]\n",
    "    \n",
    "    # Preprocessing: reshape the image data into rows\n",
    "    X_train = np.reshape(X_train, (X_train.shape[0], -1))\n",
    "    X_val = np.reshape(X_val, (X_val.shape[0], -1))\n",
    "    X_test = np.reshape(X_test, (X_test.shape[0], -1))\n",
    "    X_dev = np.reshape(X_dev, (X_dev.shape[0], -1))\n",
    "    \n",
    "    # Normalize the data: subtract the mean image\n",
    "    mean_image = np.mean(X_train, axis = 0)\n",
    "    X_train -= mean_image\n",
    "    X_val -= mean_image\n",
    "    X_test -= mean_image\n",
    "    X_dev -= mean_image\n",
    "    \n",
    "    # add bias dimension and transform into columns\n",
    "    X_train = np.hstack([X_train, np.ones((X_train.shape[0], 1))])\n",
    "    X_val = np.hstack([X_val, np.ones((X_val.shape[0], 1))])\n",
    "    X_test = np.hstack([X_test, np.ones((X_test.shape[0], 1))])\n",
    "    X_dev = np.hstack([X_dev, np.ones((X_dev.shape[0], 1))])\n",
    "    \n",
    "    return X_train, y_train, X_val, y_val, X_test, y_test, X_dev, y_dev\n",
    "\n",
    "\n",
    "# Invoke the above function to get our data.\n",
    "X_train, y_train, X_val, y_val, X_test, y_test, X_dev, y_dev = get_CIFAR10_data()\n",
    "print('Train data shape: ', X_train.shape)\n",
    "print('Train labels shape: ', y_train.shape)\n",
    "print('Validation data shape: ', X_val.shape)\n",
    "print('Validation labels shape: ', y_val.shape)\n",
    "print('Test data shape: ', X_test.shape)\n",
    "print('Test labels shape: ', y_test.shape)\n",
    "print('dev data shape: ', X_dev.shape)\n",
    "print('dev labels shape: ', y_dev.shape)"
   ]
  },
  {
   "cell_type": "markdown",
   "metadata": {},
   "source": [
    "## Softmax Classifier\n",
    "\n",
    "Your code for this section will all be written inside **cs231n/classifiers/softmax.py**. \n"
   ]
  },
  {
   "cell_type": "code",
   "execution_count": 4,
   "metadata": {},
   "outputs": [
    {
     "name": "stdout",
     "output_type": "stream",
     "text": [
      "10\n",
      "loss: 2.376864\n",
      "sanity check: 2.302585\n"
     ]
    }
   ],
   "source": [
    "# First implement the naive softmax loss function with nested loops.\n",
    "# Open the file cs231n/classifiers/softmax.py and implement the\n",
    "# softmax_loss_naive function.\n",
    "\n",
    "from cs231n.classifiers.softmax import softmax_loss_naive\n",
    "import time\n",
    "\n",
    "# Generate a random softmax weight matrix and use it to compute the loss.\n",
    "W = np.random.randn(3073, 10) * 0.0001\n",
    "loss, grad = softmax_loss_naive(W, X_dev, y_dev, 0.0)\n",
    "\n",
    "# As a rough sanity check, our loss should be something close to -log(0.1).\n",
    "print('loss: %f' % loss)\n",
    "print('sanity check: %f' % (-np.log(0.1)))"
   ]
  },
  {
   "cell_type": "markdown",
   "metadata": {},
   "source": [
    "## Inline Question 1:\n",
    "Why do we expect our loss to be close to -log(0.1)? Explain briefly.**\n",
    "\n",
    "**Your answer:** \n",
    "- Due to random initialization of W matrix to values close to 0, the scores obtained by X * W are also close to 0. Therefore, loss, which equals ** -log(e^score/sigma(e^score)), will equal (- log(1/10)) approximately.\n"
   ]
  },
  {
   "cell_type": "code",
   "execution_count": 6,
   "metadata": {},
   "outputs": [
    {
     "name": "stdout",
     "output_type": "stream",
     "text": [
      "numerical: -2.038755 analytic: -2.038755, relative error: 1.848163e-09\n",
      "numerical: -1.748294 analytic: -1.748294, relative error: 4.862048e-09\n",
      "numerical: -2.260849 analytic: -2.260849, relative error: 3.229010e-09\n",
      "numerical: 1.798086 analytic: 1.798086, relative error: 1.280461e-08\n",
      "numerical: -1.664115 analytic: -1.664115, relative error: 6.554440e-09\n",
      "numerical: 2.750614 analytic: 2.750614, relative error: 1.753909e-08\n",
      "numerical: -2.146558 analytic: -2.146557, relative error: 3.037784e-08\n",
      "numerical: -0.423528 analytic: -0.423528, relative error: 6.558171e-08\n",
      "numerical: 1.005882 analytic: 1.005882, relative error: 2.049544e-08\n",
      "numerical: -0.236377 analytic: -0.236377, relative error: 8.768766e-08\n",
      "numerical: -0.823826 analytic: -0.823826, relative error: 3.529130e-08\n",
      "numerical: -3.580161 analytic: -3.580161, relative error: 5.322338e-09\n",
      "numerical: 1.170256 analytic: 1.170256, relative error: 8.259506e-10\n",
      "numerical: 0.444946 analytic: 0.444946, relative error: 4.497239e-09\n",
      "numerical: -4.256980 analytic: -4.256980, relative error: 1.044321e-08\n",
      "numerical: -1.432834 analytic: -1.432834, relative error: 1.170321e-09\n",
      "numerical: 0.607139 analytic: 0.607139, relative error: 8.858634e-08\n",
      "numerical: -0.650721 analytic: -0.650721, relative error: 2.977346e-08\n",
      "numerical: 0.246622 analytic: 0.246622, relative error: 2.316800e-08\n",
      "numerical: 1.500589 analytic: 1.500588, relative error: 3.826783e-08\n"
     ]
    }
   ],
   "source": [
    "# Complete the implementation of softmax_loss_naive and implement a (naive)\n",
    "# version of the gradient that uses nested loops.\n",
    "loss, grad = softmax_loss_naive(W, X_dev, y_dev, 0.0)\n",
    "\n",
    "# As we did for the SVM, use numeric gradient checking as a debugging tool.\n",
    "# The numeric gradient should be close to the analytic gradient.\n",
    "from cs231n.gradient_check import grad_check_sparse\n",
    "f = lambda w: softmax_loss_naive(w, X_dev, y_dev, 0.0)[0]\n",
    "grad_numerical = grad_check_sparse(f, W, grad, 10)\n",
    "\n",
    "# similar to SVM case, do another gradient check with regularization\n",
    "loss, grad = softmax_loss_naive(W, X_dev, y_dev, 5e1)\n",
    "f = lambda w: softmax_loss_naive(w, X_dev, y_dev, 5e1)[0]\n",
    "grad_numerical = grad_check_sparse(f, W, grad, 10)"
   ]
  },
  {
   "cell_type": "code",
   "execution_count": 7,
   "metadata": {},
   "outputs": [
    {
     "name": "stdout",
     "output_type": "stream",
     "text": [
      "naive loss: 2.376864e+00 computed in 0.268718s\n",
      "vectorized loss: 3.109353e-02 computed in 0.017400s\n",
      "Loss difference: 2.345771\n",
      "Gradient difference: 0.000000\n"
     ]
    }
   ],
   "source": [
    "# Now that we have a naive implementation of the softmax loss function and its gradient,\n",
    "# implement a vectorized version in softmax_loss_vectorized.\n",
    "# The two versions should compute the same results, but the vectorized version should be\n",
    "# much faster.\n",
    "tic = time.time()\n",
    "loss_naive, grad_naive = softmax_loss_naive(W, X_dev, y_dev, 0.000005)\n",
    "toc = time.time()\n",
    "print('naive loss: %e computed in %fs' % (loss_naive, toc - tic))\n",
    "\n",
    "from cs231n.classifiers.softmax import softmax_loss_vectorized\n",
    "tic = time.time()\n",
    "loss_vectorized, grad_vectorized = softmax_loss_vectorized(W, X_dev, y_dev, 0.000005)\n",
    "toc = time.time()\n",
    "print('vectorized loss: %e computed in %fs' % (loss_vectorized, toc - tic))\n",
    "\n",
    "# As we did for the SVM, we use the Frobenius norm to compare the two versions\n",
    "# of the gradient.\n",
    "grad_difference = np.linalg.norm(grad_naive - grad_vectorized, ord='fro')\n",
    "print('Loss difference: %f' % np.abs(loss_naive - loss_vectorized))\n",
    "print('Gradient difference: %f' % grad_difference)"
   ]
  },
  {
   "cell_type": "code",
   "execution_count": 13,
   "metadata": {},
   "outputs": [
    {
     "name": "stdout",
     "output_type": "stream",
     "text": [
      "iteration 0 / 1500: loss 382.866926\n",
      "iteration 100 / 1500: loss 231.137931\n",
      "iteration 200 / 1500: loss 139.434845\n",
      "iteration 300 / 1500: loss 84.197707\n",
      "iteration 400 / 1500: loss 50.687335\n",
      "iteration 500 / 1500: loss 30.440259\n",
      "iteration 600 / 1500: loss 18.262330\n",
      "iteration 700 / 1500: loss 10.850633\n",
      "iteration 800 / 1500: loss 6.473503\n",
      "iteration 900 / 1500: loss 3.610752\n",
      "iteration 1000 / 1500: loss 2.017850\n",
      "iteration 1100 / 1500: loss 1.018394\n",
      "iteration 1200 / 1500: loss 0.518083\n",
      "iteration 1300 / 1500: loss 0.083918\n",
      "iteration 1400 / 1500: loss -0.129974\n",
      "iteration 0 / 1500: loss 774.320641\n",
      "iteration 100 / 1500: loss 283.119094\n",
      "iteration 200 / 1500: loss 103.334342\n",
      "iteration 300 / 1500: loss 37.608247\n",
      "iteration 400 / 1500: loss 13.600802\n",
      "iteration 500 / 1500: loss 4.773977\n",
      "iteration 600 / 1500: loss 1.604312\n",
      "iteration 700 / 1500: loss 0.336089\n",
      "iteration 800 / 1500: loss -0.183462\n",
      "iteration 900 / 1500: loss -0.180674\n",
      "iteration 1000 / 1500: loss -0.275569\n",
      "iteration 1100 / 1500: loss -0.382261\n",
      "iteration 1200 / 1500: loss -0.270343\n",
      "iteration 1300 / 1500: loss -0.273974\n",
      "iteration 1400 / 1500: loss -0.299880\n",
      "iteration 0 / 1500: loss 383.161468\n",
      "iteration 100 / 1500: loss 30.210159\n",
      "iteration 200 / 1500: loss 2.010084\n",
      "iteration 300 / 1500: loss -0.186991\n",
      "iteration 400 / 1500: loss -0.464803\n",
      "iteration 500 / 1500: loss -0.453453\n",
      "iteration 600 / 1500: loss -0.450212\n",
      "iteration 700 / 1500: loss -0.455500\n",
      "iteration 800 / 1500: loss -0.431910\n",
      "iteration 900 / 1500: loss -0.456156\n",
      "iteration 1000 / 1500: loss -0.438276\n",
      "iteration 1100 / 1500: loss -0.451158\n",
      "iteration 1200 / 1500: loss -0.440394\n",
      "iteration 1300 / 1500: loss -0.492350\n",
      "iteration 1400 / 1500: loss -0.495296\n",
      "iteration 0 / 1500: loss 775.609388\n",
      "iteration 100 / 1500: loss 4.598742\n",
      "iteration 200 / 1500: loss -0.326319\n",
      "iteration 300 / 1500: loss -0.325601\n",
      "iteration 400 / 1500: loss -0.388501\n",
      "iteration 500 / 1500: loss -0.305727\n",
      "iteration 600 / 1500: loss -0.283430\n",
      "iteration 700 / 1500: loss -0.297273\n",
      "iteration 800 / 1500: loss -0.358046\n",
      "iteration 900 / 1500: loss -0.388968\n",
      "iteration 1000 / 1500: loss -0.301386\n",
      "iteration 1100 / 1500: loss -0.345304\n",
      "iteration 1200 / 1500: loss -0.296418\n",
      "iteration 1300 / 1500: loss -0.318980\n",
      "iteration 1400 / 1500: loss -0.293496\n",
      "lr 1.000000e-07 reg 2.500000e+04 train accuracy: 0.350347 val accuracy: 0.362000\n",
      "lr 1.000000e-07 reg 5.000000e+04 train accuracy: 0.327714 val accuracy: 0.346000\n",
      "lr 5.000000e-07 reg 2.500000e+04 train accuracy: 0.350061 val accuracy: 0.364000\n",
      "lr 5.000000e-07 reg 5.000000e+04 train accuracy: 0.324143 val accuracy: 0.341000\n",
      "best validation accuracy achieved during cross-validation: 0.364000\n"
     ]
    }
   ],
   "source": [
    "# Use the validation set to tune hyperparameters (regularization strength and\n",
    "# learning rate). You should experiment with different ranges for the learning\n",
    "# rates and regularization strengths; if you are careful you should be able to\n",
    "# get a classification accuracy of over 0.35 on the validation set.\n",
    "from cs231n.classifiers import Softmax\n",
    "results = {}\n",
    "best_val = -1\n",
    "best_softmax = None\n",
    "learning_rates = [1e-7, 5e-7]\n",
    "regularization_strengths = [2.5e4, 5e4]\n",
    "\n",
    "################################################################################\n",
    "# TODO:                                                                        #\n",
    "# Use the validation set to set the learning rate and regularization strength. #\n",
    "# This should be identical to the validation that you did for the SVM; save    #\n",
    "# the best trained softmax classifer in best_softmax.                          #\n",
    "################################################################################\n",
    "for learning_rate in learning_rates:\n",
    "    for regularization_strength in regularization_strengths:\n",
    "        softmax = Softmax()\n",
    "        softmax.train(X_train, y_train, learning_rate=learning_rate, reg=regularization_strength, num_iters=1500,verbose=True)\n",
    "        y_train_pred = softmax.predict(X_train)\n",
    "        y_val_pred = softmax.predict(X_val)\n",
    "        accuracy_val = (np.mean(y_val == y_val_pred))\n",
    "        if (accuracy_val > best_val):\n",
    "            best_val = accuracy_val\n",
    "            best_softmax = softmax\n",
    "        results[(learning_rate, regularization_strength)] = (np.mean(y_train == y_train_pred), accuracy_val)\n",
    "################################################################################\n",
    "#                              END OF YOUR CODE                                #\n",
    "################################################################################\n",
    "    \n",
    "# Print out results.\n",
    "for lr, reg in sorted(results):\n",
    "    train_accuracy, val_accuracy = results[(lr, reg)]\n",
    "    print('lr %e reg %e train accuracy: %f val accuracy: %f' % (\n",
    "                lr, reg, train_accuracy, val_accuracy))\n",
    "    \n",
    "print('best validation accuracy achieved during cross-validation: %f' % best_val)"
   ]
  },
  {
   "cell_type": "code",
   "execution_count": 14,
   "metadata": {},
   "outputs": [
    {
     "name": "stdout",
     "output_type": "stream",
     "text": [
      "softmax on raw pixels final test set accuracy: 0.357000\n"
     ]
    }
   ],
   "source": [
    "# evaluate on test set\n",
    "# Evaluate the best softmax on test set\n",
    "y_test_pred = best_softmax.predict(X_test)\n",
    "test_accuracy = np.mean(y_test == y_test_pred)\n",
    "print('softmax on raw pixels final test set accuracy: %f' % (test_accuracy, ))"
   ]
  },
  {
   "cell_type": "code",
   "execution_count": 15,
   "metadata": {},
   "outputs": [
    {
     "data": {
      "image/png": "[encoded data removed]",
      "text/plain": [
       "<Figure size 432x288 with 10 Axes>"
      ]
     },
     "metadata": {
      "needs_background": "light"
     },
     "output_type": "display_data"
    }
   ],
   "source": [
    "# Visualize the learned weights for each class\n",
    "w = best_softmax.W[:-1,:] # strip out the bias\n",
    "w = w.reshape(32, 32, 3, 10)\n",
    "\n",
    "w_min, w_max = np.min(w), np.max(w)\n",
    "\n",
    "classes = ['plane', 'car', 'bird', 'cat', 'deer', 'dog', 'frog', 'horse', 'ship', 'truck']\n",
    "for i in range(10):\n",
    "    plt.subplot(2, 5, i + 1)\n",
    "    \n",
    "    # Rescale the weights to be between 0 and 255\n",
    "    wimg = 255.0 * (w[:, :, :, i].squeeze() - w_min) / (w_max - w_min)\n",
    "    plt.imshow(wimg.astype('uint8'))\n",
    "    plt.axis('off')\n",
    "    plt.title(classes[i])"
   ]
  },
  {
   "cell_type": "code",
   "execution_count": null,
   "metadata": {},
   "outputs": [],
   "source": []
  }
 ],
 "metadata": {
  "kernelspec": {
   "display_name": "Python 2",
   "language": "python",
   "name": "python2"
  },
  "language_info": {
   "codemirror_mode": {
    "name": "ipython",
    "version": 2
   },
   "file_extension": ".py",
   "mimetype": "text/x-python",
   "name": "python",
   "nbconvert_exporter": "python",
   "pygments_lexer": "ipython2",
   "version": "2.7.12"
  }
 },
 "nbformat": 4,
 "nbformat_minor": 1
}
