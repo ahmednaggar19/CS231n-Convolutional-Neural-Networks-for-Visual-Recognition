{
 "cells": [
  {
   "cell_type": "markdown",
   "metadata": {},
   "source": [
    "# Softmax exercise\n",
    "\n",
    "*Complete and hand in this completed worksheet (including its outputs and any supporting code outside of the worksheet) with your assignment submission. For more details see the [assignments page](http://vision.stanford.edu/teaching/cs231n/assignments.html) on the course website.*\n",
    "\n",
    "This exercise is analogous to the SVM exercise. You will:\n",
    "\n",
    "- implement a fully-vectorized **loss function** for the Softmax classifier\n",
    "- implement the fully-vectorized expression for its **analytic gradient**\n",
    "- **check your implementation** with numerical gradient\n",
    "- use a validation set to **tune the learning rate and regularization** strength\n",
    "- **optimize** the loss function with **SGD**\n",
    "- **visualize** the final learned weights\n"
   ]
  },
  {
   "cell_type": "code",
   "execution_count": 1,
   "metadata": {},
   "outputs": [],
   "source": [
    "import random\n",
    "import numpy as np\n",
    "from cs231n.data_utils import load_CIFAR10\n",
    "import matplotlib.pyplot as plt\n",
    "\n",
    "from __future__ import print_function\n",
    "\n",
    "%matplotlib inline\n",
    "plt.rcParams['figure.figsize'] = (10.0, 8.0) # set default size of plots\n",
    "plt.rcParams['image.interpolation'] = 'nearest'\n",
    "plt.rcParams['image.cmap'] = 'gray'\n",
    "\n",
    "# for auto-reloading extenrnal modules\n",
    "# see http://stackoverflow.com/questions/1907993/autoreload-of-modules-in-ipython\n",
    "%load_ext autoreload\n",
    "%autoreload 2"
   ]
  },
  {
   "cell_type": "code",
   "execution_count": 2,
   "metadata": {},
   "outputs": [
    {
     "name": "stdout",
     "output_type": "stream",
     "text": [
      "Train data shape:  (49000, 3073)\n",
      "Train labels shape:  (49000,)\n",
      "Validation data shape:  (1000, 3073)\n",
      "Validation labels shape:  (1000,)\n",
      "Test data shape:  (1000, 3073)\n",
      "Test labels shape:  (1000,)\n",
      "dev data shape:  (500, 3073)\n",
      "dev labels shape:  (500,)\n"
     ]
    }
   ],
   "source": [
    "def get_CIFAR10_data(num_training=49000, num_validation=1000, num_test=1000, num_dev=500):\n",
    "    \"\"\"\n",
    "    Load the CIFAR-10 dataset from disk and perform preprocessing to prepare\n",
    "    it for the linear classifier. These are the same steps as we used for the\n",
    "    SVM, but condensed to a single function.  \n",
    "    \"\"\"\n",
    "    # Load the raw CIFAR-10 data\n",
    "    cifar10_dir = 'cs231n/datasets/cifar-10-batches-py'\n",
    "    X_train, y_train, X_test, y_test = load_CIFAR10(cifar10_dir)\n",
    "    \n",
    "    # subsample the data\n",
    "    mask = list(range(num_training, num_training + num_validation))\n",
    "    X_val = X_train[mask]\n",
    "    y_val = y_train[mask]\n",
    "    mask = list(range(num_training))\n",
    "    X_train = X_train[mask]\n",
    "    y_train = y_train[mask]\n",
    "    mask = list(range(num_test))\n",
    "    X_test = X_test[mask]\n",
    "    y_test = y_test[mask]\n",
    "    mask = np.random.choice(num_training, num_dev, replace=False)\n",
    "    X_dev = X_train[mask]\n",
    "    y_dev = y_train[mask]\n",
    "    \n",
    "    # Preprocessing: reshape the image data into rows\n",
    "    X_train = np.reshape(X_train, (X_train.shape[0], -1))\n",
    "    X_val = np.reshape(X_val, (X_val.shape[0], -1))\n",
    "    X_test = np.reshape(X_test, (X_test.shape[0], -1))\n",
    "    X_dev = np.reshape(X_dev, (X_dev.shape[0], -1))\n",
    "    \n",
    "    # Normalize the data: subtract the mean image\n",
    "    mean_image = np.mean(X_train, axis = 0)\n",
    "    X_train -= mean_image\n",
    "    X_val -= mean_image\n",
    "    X_test -= mean_image\n",
    "    X_dev -= mean_image\n",
    "    \n",
    "    # add bias dimension and transform into columns\n",
    "    X_train = np.hstack([X_train, np.ones((X_train.shape[0], 1))])\n",
    "    X_val = np.hstack([X_val, np.ones((X_val.shape[0], 1))])\n",
    "    X_test = np.hstack([X_test, np.ones((X_test.shape[0], 1))])\n",
    "    X_dev = np.hstack([X_dev, np.ones((X_dev.shape[0], 1))])\n",
    "    \n",
    "    return X_train, y_train, X_val, y_val, X_test, y_test, X_dev, y_dev\n",
    "\n",
    "\n",
    "# Invoke the above function to get our data.\n",
    "X_train, y_train, X_val, y_val, X_test, y_test, X_dev, y_dev = get_CIFAR10_data()\n",
    "print('Train data shape: ', X_train.shape)\n",
    "print('Train labels shape: ', y_train.shape)\n",
    "print('Validation data shape: ', X_val.shape)\n",
    "print('Validation labels shape: ', y_val.shape)\n",
    "print('Test data shape: ', X_test.shape)\n",
    "print('Test labels shape: ', y_test.shape)\n",
    "print('dev data shape: ', X_dev.shape)\n",
    "print('dev labels shape: ', y_dev.shape)"
   ]
  },
  {
   "cell_type": "markdown",
   "metadata": {},
   "source": [
    "## Softmax Classifier\n",
    "\n",
    "Your code for this section will all be written inside **cs231n/classifiers/softmax.py**. \n"
   ]
  },
  {
   "cell_type": "code",
   "execution_count": 3,
   "metadata": {},
   "outputs": [
    {
     "name": "stdout",
     "output_type": "stream",
     "text": [
      "[[ 1.10021448]\n",
      " [ 1.98547384]\n",
      " [ 1.10835316]\n",
      " [ 0.21124848]\n",
      " [-0.81288436]\n",
      " [-0.87764546]\n",
      " [ 1.50183732]\n",
      " [-0.49454282]\n",
      " [-1.82359693]\n",
      " [-0.62717494]]\n",
      "[[21.76178927  8.22089927 12.69318729  6.56124507  7.09149805 16.89539924\n",
      "   3.74122763  4.91628673 16.43309767 28.77529731]\n",
      " [ 4.05058515  8.29931218  7.52988077 20.02832821 14.45281289  1.69335979\n",
      "  25.53388544 10.40845157  3.35731147 12.31923722]\n",
      " [ 6.83437086  0.5299296   6.90543097  5.54719813  0.69553623  5.3284302\n",
      "   5.11123129  0.74342282  4.65168209 13.38331084]\n",
      " [ 9.61330144  4.20077743 14.321714    9.35912608  0.91839545 11.69605331\n",
      "   3.54692679  3.89152872  8.48332487 14.78329237]\n",
      " [ 4.01975949  4.67115619  8.92227145 11.40152362  3.29446107  5.8539801\n",
      "   3.50778253  2.32496576  2.65453352 10.90281771]\n",
      " [ 8.64300864  8.73018708  6.23057775  9.95377787  8.6201462   5.74090794\n",
      "  18.48162995  9.55145909  6.44123187  0.91532397]\n",
      " [ 4.55062458  2.84646928  8.66190476  8.02847712  0.77991907  5.8158352\n",
      "   5.58677665  2.74641558  3.48958678  6.44683471]\n",
      " [ 1.89562825  2.10664641  6.65858025 11.07359875  3.94209315  1.72034376\n",
      "  13.50826587  4.16111635  1.44046293  6.92012246]\n",
      " [10.29942127  2.83694582  2.62008689  2.92939114  4.52755589  4.1645808\n",
      "  13.6502725   4.17100769  6.62915267  7.7055069 ]]\n",
      "[ 1.50183732 -0.87764546  1.98547384 -0.81288436 -0.49454282 -0.62717494\n",
      " -0.81288436 -1.82359693  1.10835316]\n",
      "loss: 2.338040\n",
      "sanity check: 2.302585\n"
     ]
    }
   ],
   "source": [
    "# First implement the naive softmax loss function with nested loops.\n",
    "# Open the file cs231n/classifiers/softmax.py and implement the\n",
    "# softmax_loss_naive function.\n",
    "\n",
    "from cs231n.classifiers.softmax import softmax_loss_naive\n",
    "import time\n",
    "\n",
    "# Generate a random softmax weight matrix and use it to compute the loss.\n",
    "W = np.random.randn(3073, 10) * 0.0001\n",
    "loss, grad = softmax_loss_naive(W, X_dev, y_dev, 0.0)\n",
    "\n",
    "# As a rough sanity check, our loss should be something close to -log(0.1).\n",
    "print('loss: %f' % loss)\n",
    "print('sanity check: %f' % (-np.log(0.1)))"
   ]
  },
  {
   "cell_type": "markdown",
   "metadata": {},
   "source": [
    "## Inline Question 1:\n",
    "Why do we expect our loss to be close to -log(0.1)? Explain briefly.**\n",
    "\n",
    "**Your answer:** \n",
    "- Due to random initialization of W matrix to values close to 0, the scores obtained by X * W are also close to 0. Therefore, loss, which equals ** -log(e^score/sigma(e^score)), will equal (- log(1/10)) approximately.\n"
   ]
  },
  {
   "cell_type": "code",
   "execution_count": 4,
   "metadata": {},
   "outputs": [
    {
     "name": "stdout",
     "output_type": "stream",
     "text": [
      "numerical: 0.487065 analytic: 0.487065, relative error: 5.924689e-08\n",
      "numerical: -2.688258 analytic: -2.688258, relative error: 2.859042e-08\n",
      "numerical: 3.110337 analytic: 3.110337, relative error: 9.003139e-09\n",
      "numerical: 1.038941 analytic: 1.038941, relative error: 9.266118e-08\n",
      "numerical: -0.450684 analytic: -0.450684, relative error: 9.086474e-08\n",
      "numerical: 0.977054 analytic: 0.977054, relative error: 6.532699e-08\n",
      "numerical: 1.939539 analytic: 1.939539, relative error: 1.355270e-08\n",
      "numerical: 0.948610 analytic: 0.948610, relative error: 1.351426e-08\n",
      "numerical: 0.405557 analytic: 0.405557, relative error: 3.435846e-08\n",
      "numerical: 3.450803 analytic: 3.450803, relative error: 1.724847e-08\n",
      "numerical: 0.232048 analytic: 0.232048, relative error: 1.659903e-07\n",
      "numerical: 2.730227 analytic: 2.730227, relative error: 2.470217e-08\n",
      "numerical: 1.110754 analytic: 1.110754, relative error: 1.922566e-08\n",
      "numerical: -1.031673 analytic: -1.031673, relative error: 2.296778e-08\n",
      "numerical: 0.422177 analytic: 0.422177, relative error: 1.441726e-07\n",
      "numerical: -1.220951 analytic: -1.220951, relative error: 1.403343e-08\n",
      "numerical: -0.223072 analytic: -0.223072, relative error: 1.686600e-07\n",
      "numerical: 1.983387 analytic: 1.983387, relative error: 1.362208e-09\n",
      "numerical: -0.910906 analytic: -0.910906, relative error: 6.781782e-09\n",
      "numerical: -1.217427 analytic: -1.217427, relative error: 5.857138e-08\n"
     ]
    }
   ],
   "source": [
    "# Complete the implementation of softmax_loss_naive and implement a (naive)\n",
    "# version of the gradient that uses nested loops.\n",
    "loss, grad = softmax_loss_naive(W, X_dev, y_dev, 0.0)\n",
    "\n",
    "# As we did for the SVM, use numeric gradient checking as a debugging tool.\n",
    "# The numeric gradient should be close to the analytic gradient.\n",
    "from cs231n.gradient_check import grad_check_sparse\n",
    "f = lambda w: softmax_loss_naive(w, X_dev, y_dev, 0.0)[0]\n",
    "grad_numerical = grad_check_sparse(f, W, grad, 10)\n",
    "\n",
    "# similar to SVM case, do another gradient check with regularization\n",
    "loss, grad = softmax_loss_naive(W, X_dev, y_dev, 5e1)\n",
    "f = lambda w: softmax_loss_naive(w, X_dev, y_dev, 5e1)[0]\n",
    "grad_numerical = grad_check_sparse(f, W, grad, 10)"
   ]
  },
  {
   "cell_type": "code",
   "execution_count": 21,
   "metadata": {
    "scrolled": true
   },
   "outputs": [
    {
     "name": "stdout",
     "output_type": "stream",
     "text": [
      "naive loss: 2.338040e+00 computed in 0.197086s\n",
      "vectorized loss: 2.338040e+00 computed in 0.011178s\n",
      "Loss difference: 0.000000\n",
      "Gradient difference: 0.000000\n"
     ]
    }
   ],
   "source": [
    "# Now that we have a naive implementation of the softmax loss function and its gradient,\n",
    "# implement a vectorized version in softmax_loss_vectorized.\n",
    "# The two versions should compute the same results, but the vectorized version should be\n",
    "# much faster.\n",
    "tic = time.time()\n",
    "loss_naive, grad_naive = softmax_loss_naive(W, X_dev, y_dev, 0.000005)\n",
    "toc = time.time()\n",
    "print('naive loss: %e computed in %fs' % (loss_naive, toc - tic))\n",
    "\n",
    "from cs231n.classifiers.softmax import softmax_loss_vectorized\n",
    "tic = time.time()\n",
    "loss_vectorized, grad_vectorized = softmax_loss_vectorized(W, X_dev, y_dev, 0.000005)\n",
    "toc = time.time()\n",
    "print('vectorized loss: %e computed in %fs' % (loss_vectorized, toc - tic))\n",
    "\n",
    "# As we did for the SVM, we use the Frobenius norm to compare the two versions\n",
    "# of the gradient.\n",
    "grad_difference = np.linalg.norm(grad_naive - grad_vectorized, ord='fro')\n",
    "print('Loss difference: %f' % np.abs(loss_naive - loss_vectorized))\n",
    "print('Gradient difference: %f' % grad_difference)"
   ]
  },
  {
   "cell_type": "code",
   "execution_count": 22,
   "metadata": {},
   "outputs": [
    {
     "name": "stdout",
     "output_type": "stream",
     "text": [
      "iteration 0 / 1500: loss 387.834515\n",
      "iteration 100 / 1500: loss 234.126599\n",
      "iteration 200 / 1500: loss 142.019049\n",
      "iteration 300 / 1500: loss 86.797847\n",
      "iteration 400 / 1500: loss 53.326445\n",
      "iteration 500 / 1500: loss 32.985216\n",
      "iteration 600 / 1500: loss 20.763948\n",
      "iteration 700 / 1500: loss 13.376887\n",
      "iteration 800 / 1500: loss 8.874346\n",
      "iteration 900 / 1500: loss 6.182312\n",
      "iteration 1000 / 1500: loss 4.473465\n",
      "iteration 1100 / 1500: loss 3.562695\n",
      "iteration 1200 / 1500: loss 2.849217\n",
      "iteration 1300 / 1500: loss 2.615955\n",
      "iteration 1400 / 1500: loss 2.358167\n",
      "iteration 0 / 1500: loss 778.829104\n",
      "iteration 100 / 1500: loss 285.570230\n",
      "iteration 200 / 1500: loss 105.876803\n",
      "iteration 300 / 1500: loss 40.032775\n",
      "iteration 400 / 1500: loss 15.982003\n",
      "iteration 500 / 1500: loss 7.151632\n",
      "iteration 600 / 1500: loss 3.952494\n",
      "iteration 700 / 1500: loss 2.775888\n",
      "iteration 800 / 1500: loss 2.342668\n",
      "iteration 900 / 1500: loss 2.155052\n",
      "iteration 1000 / 1500: loss 2.148929\n",
      "iteration 1100 / 1500: loss 2.064791\n",
      "iteration 1200 / 1500: loss 2.008352\n",
      "iteration 1300 / 1500: loss 2.071879\n",
      "iteration 1400 / 1500: loss 2.106394\n",
      "iteration 0 / 1500: loss 389.973857\n",
      "iteration 100 / 1500: loss 32.985369\n",
      "iteration 200 / 1500: loss 4.443548\n",
      "iteration 300 / 1500: loss 2.315342\n",
      "iteration 400 / 1500: loss 1.975120\n",
      "iteration 500 / 1500: loss 2.006421\n",
      "iteration 600 / 1500: loss 2.004692\n",
      "iteration 700 / 1500: loss 1.996162\n",
      "iteration 800 / 1500: loss 2.004464\n",
      "iteration 900 / 1500: loss 1.992762\n",
      "iteration 1000 / 1500: loss 2.007662\n",
      "iteration 1100 / 1500: loss 2.088343\n",
      "iteration 1200 / 1500: loss 2.017124\n",
      "iteration 1300 / 1500: loss 1.972172\n",
      "iteration 1400 / 1500: loss 2.059662\n",
      "iteration 0 / 1500: loss 782.059417\n",
      "iteration 100 / 1500: loss 6.957397\n",
      "iteration 200 / 1500: loss 2.082536\n",
      "iteration 300 / 1500: loss 2.073564\n",
      "iteration 400 / 1500: loss 2.069450\n",
      "iteration 500 / 1500: loss 2.090318\n",
      "iteration 600 / 1500: loss 2.065079\n",
      "iteration 700 / 1500: loss 2.077347\n",
      "iteration 800 / 1500: loss 2.073276\n",
      "iteration 900 / 1500: loss 2.114795\n",
      "iteration 1000 / 1500: loss 2.123461\n",
      "iteration 1100 / 1500: loss 2.103398\n",
      "iteration 1200 / 1500: loss 2.056789\n",
      "iteration 1300 / 1500: loss 2.086170\n",
      "iteration 1400 / 1500: loss 2.100684\n",
      "lr 1.000000e-07 reg 2.500000e+04 train accuracy: 0.350735 val accuracy: 0.364000\n",
      "lr 1.000000e-07 reg 5.000000e+04 train accuracy: 0.330122 val accuracy: 0.346000\n",
      "lr 5.000000e-07 reg 2.500000e+04 train accuracy: 0.350469 val accuracy: 0.356000\n",
      "lr 5.000000e-07 reg 5.000000e+04 train accuracy: 0.324000 val accuracy: 0.327000\n",
      "best validation accuracy achieved during cross-validation: 0.364000\n"
     ]
    }
   ],
   "source": [
    "# Use the validation set to tune hyperparameters (regularization strength and\n",
    "# learning rate). You should experiment with different ranges for the learning\n",
    "# rates and regularization strengths; if you are careful you should be able to\n",
    "# get a classification accuracy of over 0.35 on the validation set.\n",
    "from cs231n.classifiers import Softmax\n",
    "results = {}\n",
    "best_val = -1\n",
    "best_softmax = None\n",
    "learning_rates = [1e-7, 5e-7]\n",
    "regularization_strengths = [2.5e4, 5e4]\n",
    "\n",
    "################################################################################\n",
    "# TODO:                                                                        #\n",
    "# Use the validation set to set the learning rate and regularization strength. #\n",
    "# This should be identical to the validation that you did for the SVM; save    #\n",
    "# the best trained softmax classifer in best_softmax.                          #\n",
    "################################################################################\n",
    "for learning_rate in learning_rates:\n",
    "    for regularization_strength in regularization_strengths:\n",
    "        softmax = Softmax()\n",
    "        softmax.train(X_train, y_train, learning_rate=learning_rate, reg=regularization_strength, num_iters=1500,verbose=True)\n",
    "        y_train_pred = softmax.predict(X_train)\n",
    "        y_val_pred = softmax.predict(X_val)\n",
    "        accuracy_val = (np.mean(y_val == y_val_pred))\n",
    "        if (accuracy_val > best_val):\n",
    "            best_val = accuracy_val\n",
    "            best_softmax = softmax\n",
    "        results[(learning_rate, regularization_strength)] = (np.mean(y_train == y_train_pred), accuracy_val)\n",
    "################################################################################\n",
    "#                              END OF YOUR CODE                                #\n",
    "################################################################################\n",
    "    \n",
    "# Print out results.\n",
    "for lr, reg in sorted(results):\n",
    "    train_accuracy, val_accuracy = results[(lr, reg)]\n",
    "    print('lr %e reg %e train accuracy: %f val accuracy: %f' % (\n",
    "                lr, reg, train_accuracy, val_accuracy))\n",
    "    \n",
    "print('best validation accuracy achieved during cross-validation: %f' % best_val)"
   ]
  },
  {
   "cell_type": "code",
   "execution_count": 23,
   "metadata": {},
   "outputs": [
    {
     "name": "stdout",
     "output_type": "stream",
     "text": [
      "softmax on raw pixels final test set accuracy: 0.360000\n"
     ]
    }
   ],
   "source": [
    "# evaluate on test set\n",
    "# Evaluate the best softmax on test set\n",
    "y_test_pred = best_softmax.predict(X_test)\n",
    "test_accuracy = np.mean(y_test == y_test_pred)\n",
    "print('softmax on raw pixels final test set accuracy: %f' % (test_accuracy, ))"
   ]
  },
  {
   "cell_type": "code",
   "execution_count": 24,
   "metadata": {},
   "outputs": [
    {
     "data": {
      "image/png": "[encoded data removed]",
      "text/plain": [
       "<Figure size 432x288 with 10 Axes>"
      ]
     },
     "metadata": {
      "needs_background": "light"
     },
     "output_type": "display_data"
    }
   ],
   "source": [
    "# Visualize the learned weights for each class\n",
    "w = best_softmax.W[:-1,:] # strip out the bias\n",
    "w = w.reshape(32, 32, 3, 10)\n",
    "\n",
    "w_min, w_max = np.min(w), np.max(w)\n",
    "\n",
    "classes = ['plane', 'car', 'bird', 'cat', 'deer', 'dog', 'frog', 'horse', 'ship', 'truck']\n",
    "for i in range(10):\n",
    "    plt.subplot(2, 5, i + 1)\n",
    "    \n",
    "    # Rescale the weights to be between 0 and 255\n",
    "    wimg = 255.0 * (w[:, :, :, i].squeeze() - w_min) / (w_max - w_min)\n",
    "    plt.imshow(wimg.astype('uint8'))\n",
    "    plt.axis('off')\n",
    "    plt.title(classes[i])"
   ]
  },
  {
   "cell_type": "code",
   "execution_count": null,
   "metadata": {},
   "outputs": [],
   "source": []
  }
 ],
 "metadata": {
  "kernelspec": {
   "display_name": "Python 2",
   "language": "python",
   "name": "python2"
  },
  "language_info": {
   "codemirror_mode": {
    "name": "ipython",
    "version": 2
   },
   "file_extension": ".py",
   "mimetype": "text/x-python",
   "name": "python",
   "nbconvert_exporter": "python",
   "pygments_lexer": "ipython2",
   "version": "2.7.12"
  }
 },
 "nbformat": 4,
 "nbformat_minor": 1
}
